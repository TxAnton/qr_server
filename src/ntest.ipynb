{
 "cells": [
  {
   "cell_type": "code",
   "execution_count": 36,
   "metadata": {
    "collapsed": true
   },
   "outputs": [],
   "source": [
    "import requests\n",
    "import notion\n",
    "import yaml\n",
    "from notion.client import NotionClient\n",
    "import pandas as pd"
   ]
  },
  {
   "cell_type": "code",
   "execution_count": 13,
   "outputs": [
    {
     "data": {
      "text/plain": "'https://api.notion.com/v1/databases/8945bff673dd47e3adae56ec2957825a/query'"
     },
     "execution_count": 13,
     "metadata": {},
     "output_type": "execute_result"
    }
   ],
   "source": [
    "token = \"secret_ASaG0rlzlH5XI8dUQbgy0mfGztVnyPm5VAplJLew5SJ\"\n",
    "# database_id = \"b503333bc8294c16a0d7f88dddda347f\"\n",
    "database_id = \"8945bff673dd47e3adae56ec2957825a\"\n",
    "url = f'https://api.notion.com/v1/databases/{database_id}/query'\n",
    "url"
   ],
   "metadata": {
    "collapsed": false,
    "pycharm": {
     "name": "#%%\n"
    }
   }
  },
  {
   "cell_type": "code",
   "execution_count": 14,
   "outputs": [],
   "source": [
    "r = requests.post(url, headers={\n",
    "    \"Authorization\": f\"Bearer {token}\",\n",
    "    \"Notion-Version\": \"2022-06-28\"\n",
    "})\n",
    "result_dict = r.json()\n",
    "list_result = result_dict['results']"
   ],
   "metadata": {
    "collapsed": false,
    "pycharm": {
     "name": "#%%\n"
    }
   }
  },
  {
   "cell_type": "code",
   "execution_count": 19,
   "outputs": [
    {
     "data": {
      "text/plain": "['object', 'results', 'next_cursor', 'has_more', 'type', 'page']"
     },
     "execution_count": 19,
     "metadata": {},
     "output_type": "execute_result"
    }
   ],
   "source": [],
   "metadata": {
    "collapsed": false,
    "pycharm": {
     "name": "#%%\n"
    }
   }
  },
  {
   "cell_type": "code",
   "execution_count": 27,
   "outputs": [
    {
     "data": {
      "text/plain": "['object',\n 'id',\n 'created_time',\n 'last_edited_time',\n 'created_by',\n 'last_edited_by',\n 'cover',\n 'icon',\n 'parent',\n 'archived',\n 'properties',\n 'url']"
     },
     "execution_count": 27,
     "metadata": {},
     "output_type": "execute_result"
    }
   ],
   "source": [
    "list(list_result[0])"
   ],
   "metadata": {
    "collapsed": false,
    "pycharm": {
     "name": "#%%\n"
    }
   }
  },
  {
   "cell_type": "code",
   "execution_count": 30,
   "outputs": [
    {
     "data": {
      "text/plain": "['URL', 'Tags', 'Name']"
     },
     "execution_count": 30,
     "metadata": {},
     "output_type": "execute_result"
    }
   ],
   "source": [
    "cols = list(list_result[0][\"properties\"]) if list_result else None\n",
    "cols"
   ],
   "metadata": {
    "collapsed": false,
    "pycharm": {
     "name": "#%%\n"
    }
   }
  },
  {
   "cell_type": "code",
   "execution_count": 37,
   "outputs": [
    {
     "data": {
      "text/plain": "Empty DataFrame\nColumns: [URL, Tags, Name]\nIndex: []",
      "text/html": "<div>\n<style scoped>\n    .dataframe tbody tr th:only-of-type {\n        vertical-align: middle;\n    }\n\n    .dataframe tbody tr th {\n        vertical-align: top;\n    }\n\n    .dataframe thead th {\n        text-align: right;\n    }\n</style>\n<table border=\"1\" class=\"dataframe\">\n  <thead>\n    <tr style=\"text-align: right;\">\n      <th></th>\n      <th>URL</th>\n      <th>Tags</th>\n      <th>Name</th>\n    </tr>\n  </thead>\n  <tbody>\n  </tbody>\n</table>\n</div>"
     },
     "execution_count": 37,
     "metadata": {},
     "output_type": "execute_result"
    }
   ],
   "source": [
    "df = pd.DataFrame(columns=cols)\n",
    "df"
   ],
   "metadata": {
    "collapsed": false,
    "pycharm": {
     "name": "#%%\n"
    }
   }
  },
  {
   "cell_type": "code",
   "execution_count": 54,
   "outputs": [],
   "source": [
    "items = []\n",
    "for i in list_result:\n",
    "    props = i[\"properties\"]\n",
    "    u = props[\"URL\"][\"url\"]\n",
    "    n  =props[\"Name\"][\"title\"][0][\"plain_text\"]\n",
    "    t = [ms[\"name\"] for ms in props[\"Tags\"][\"multi_select\"]]\n",
    "    d = {\"URL\":u,\"Name\":n,\"Tags\":t}\n",
    "    items.append(d)"
   ],
   "metadata": {
    "collapsed": false,
    "pycharm": {
     "name": "#%%\n"
    }
   }
  },
  {
   "cell_type": "code",
   "execution_count": 55,
   "outputs": [
    {
     "name": "stderr",
     "output_type": "stream",
     "text": [
      "/tmp/ipykernel_59769/3545615023.py:1: FutureWarning: The frame.append method is deprecated and will be removed from pandas in a future version. Use pandas.concat instead.\n",
      "  df1 = df.append(items)\n"
     ]
    }
   ],
   "source": [
    "df1 = df.append(items)"
   ],
   "metadata": {
    "collapsed": false,
    "pycharm": {
     "name": "#%%\n"
    }
   }
  },
  {
   "cell_type": "code",
   "execution_count": 56,
   "outputs": [
    {
     "data": {
      "text/plain": "           URL                  Tags    Name\n0        vk.ru  [Зелёный, Вытянутый]  Червяк\n1   google.com   [Жёлтый, Вытянутый]   Банан\n2  example.com    [Зелёный, Круглый]  Яблоко",
      "text/html": "<div>\n<style scoped>\n    .dataframe tbody tr th:only-of-type {\n        vertical-align: middle;\n    }\n\n    .dataframe tbody tr th {\n        vertical-align: top;\n    }\n\n    .dataframe thead th {\n        text-align: right;\n    }\n</style>\n<table border=\"1\" class=\"dataframe\">\n  <thead>\n    <tr style=\"text-align: right;\">\n      <th></th>\n      <th>URL</th>\n      <th>Tags</th>\n      <th>Name</th>\n    </tr>\n  </thead>\n  <tbody>\n    <tr>\n      <th>0</th>\n      <td>vk.ru</td>\n      <td>[Зелёный, Вытянутый]</td>\n      <td>Червяк</td>\n    </tr>\n    <tr>\n      <th>1</th>\n      <td>google.com</td>\n      <td>[Жёлтый, Вытянутый]</td>\n      <td>Банан</td>\n    </tr>\n    <tr>\n      <th>2</th>\n      <td>example.com</td>\n      <td>[Зелёный, Круглый]</td>\n      <td>Яблоко</td>\n    </tr>\n  </tbody>\n</table>\n</div>"
     },
     "execution_count": 56,
     "metadata": {},
     "output_type": "execute_result"
    }
   ],
   "source": [
    "df1"
   ],
   "metadata": {
    "collapsed": false,
    "pycharm": {
     "name": "#%%\n"
    }
   }
  },
  {
   "cell_type": "code",
   "execution_count": 47,
   "outputs": [
    {
     "data": {
      "text/plain": "['Зелёный', 'Вытянутый']"
     },
     "execution_count": 47,
     "metadata": {},
     "output_type": "execute_result"
    }
   ],
   "source": [],
   "metadata": {
    "collapsed": false,
    "pycharm": {
     "name": "#%%\n"
    }
   }
  },
  {
   "cell_type": "code",
   "execution_count": 34,
   "outputs": [
    {
     "data": {
      "text/plain": "{'object': 'database',\n 'id': '8945bff6-73dd-47e3-adae-56ec2957825a',\n 'cover': None,\n 'icon': None,\n 'created_time': '2022-09-22T22:54:00.000Z',\n 'created_by': {'object': 'user',\n  'id': 'c95c328e-f0f8-4433-84b1-64ea2477b93c'},\n 'last_edited_by': {'object': 'user',\n  'id': 'c95c328e-f0f8-4433-84b1-64ea2477b93c'},\n 'last_edited_time': '2022-09-22T23:31:00.000Z',\n 'title': [{'type': 'text',\n   'text': {'content': 'NewTest', 'link': None},\n   'annotations': {'bold': False,\n    'italic': False,\n    'strikethrough': False,\n    'underline': False,\n    'code': False,\n    'color': 'default'},\n   'plain_text': 'NewTest',\n   'href': None}],\n 'description': [],\n 'is_inline': False,\n 'properties': {'URL': {'id': 'K%3DyT',\n   'name': 'URL',\n   'type': 'url',\n   'url': {}},\n  'Tags': {'id': 'UvrX',\n   'name': 'Tags',\n   'type': 'multi_select',\n   'multi_select': {'options': [{'id': 'afe069a6-8789-4327-908b-e6d566907d1a',\n      'name': 'Зелёный',\n      'color': 'purple'},\n     {'id': '6f06f208-c178-4260-96cc-5c42ae09555a',\n      'name': 'Круглый',\n      'color': 'orange'},\n     {'id': '0f8a4353-6aab-49ca-b831-709fb821a0a4',\n      'name': 'Жёлтый',\n      'color': 'gray'},\n     {'id': 'd4e5284f-90ac-475d-a3b4-2c435053d35c',\n      'name': 'Вытянутый',\n      'color': 'pink'}]}},\n  'Name': {'id': 'title', 'name': 'Name', 'type': 'title', 'title': {}}},\n 'parent': {'type': 'workspace', 'workspace': True},\n 'url': 'https://www.notion.so/8945bff673dd47e3adae56ec2957825a',\n 'archived': False}"
     },
     "execution_count": 34,
     "metadata": {},
     "output_type": "execute_result"
    }
   ],
   "source": [
    "url = f'https://api.notion.com/v1/databases/{database_id}'\n",
    "\n",
    "r = requests.get(url, headers={\n",
    "    \"Authorization\": f\"Bearer {token}\",\n",
    "    \"Notion-Version\": \"2022-06-28\"\n",
    "})\n",
    "result_dict = r.json()\n",
    "result_dict"
   ],
   "metadata": {
    "collapsed": false,
    "pycharm": {
     "name": "#%%\n"
    }
   }
  },
  {
   "cell_type": "code",
   "execution_count": 58,
   "outputs": [
    {
     "ename": "AttributeError",
     "evalue": "module 'qrcode' has no attribute 'Decoder'",
     "output_type": "error",
     "traceback": [
      "\u001B[0;31m---------------------------------------------------------------------------\u001B[0m",
      "\u001B[0;31mAttributeError\u001B[0m                            Traceback (most recent call last)",
      "Cell \u001B[0;32mIn [58], line 2\u001B[0m\n\u001B[1;32m      1\u001B[0m \u001B[38;5;28;01mimport\u001B[39;00m \u001B[38;5;21;01mqrcode\u001B[39;00m\n\u001B[0;32m----> 2\u001B[0m d \u001B[38;5;241m=\u001B[39m \u001B[43mqrcode\u001B[49m\u001B[38;5;241;43m.\u001B[39;49m\u001B[43mDecoder\u001B[49m()\n\u001B[1;32m      3\u001B[0m \u001B[38;5;28;01mif\u001B[39;00m d\u001B[38;5;241m.\u001B[39mdecode(\u001B[38;5;124m'\u001B[39m\u001B[38;5;124mqrcode_result2.png\u001B[39m\u001B[38;5;124m'\u001B[39m):\n\u001B[1;32m      4\u001B[0m     \u001B[38;5;28mprint\u001B[39m (\u001B[38;5;124m'\u001B[39m\u001B[38;5;124mresult: \u001B[39m\u001B[38;5;124m'\u001B[39m \u001B[38;5;241m+\u001B[39m d\u001B[38;5;241m.\u001B[39mresult)\n",
      "\u001B[0;31mAttributeError\u001B[0m: module 'qrcode' has no attribute 'Decoder'"
     ]
    }
   ],
   "source": [
    "import qrcode\n",
    "d = qrcode.Decoder()\n",
    "if d.decode('qrcode_result2.png'):\n",
    "    print ('result: ' + d.result)\n",
    "else:\n",
    "    print ('error: ' + d.error)"
   ],
   "metadata": {
    "collapsed": false,
    "pycharm": {
     "name": "#%%\n"
    }
   }
  },
  {
   "cell_type": "code",
   "execution_count": 59,
   "outputs": [
    {
     "data": {
      "text/plain": "{'__name__': 'qrcode',\n '__doc__': None,\n '__package__': 'qrcode',\n '__loader__': <_frozen_importlib_external.SourceFileLoader at 0x7f969abc1580>,\n '__spec__': ModuleSpec(name='qrcode', loader=<_frozen_importlib_external.SourceFileLoader object at 0x7f969abc1580>, origin='/home/anton/PycharmProjects/notion_test/venv/lib/python3.8/site-packages/qrcode/__init__.py', submodule_search_locations=['/home/anton/PycharmProjects/notion_test/venv/lib/python3.8/site-packages/qrcode']),\n '__path__': ['/home/anton/PycharmProjects/notion_test/venv/lib/python3.8/site-packages/qrcode'],\n '__file__': '/home/anton/PycharmProjects/notion_test/venv/lib/python3.8/site-packages/qrcode/__init__.py',\n '__cached__': '/home/anton/PycharmProjects/notion_test/venv/lib/python3.8/site-packages/qrcode/__pycache__/__init__.cpython-38.pyc',\n '__builtins__': {'__name__': 'builtins',\n  '__doc__': \"Built-in functions, exceptions, and other objects.\\n\\nNoteworthy: None is the `nil' object; Ellipsis represents `...' in slices.\",\n  '__package__': '',\n  '__loader__': _frozen_importlib.BuiltinImporter,\n  '__spec__': ModuleSpec(name='builtins', loader=<class '_frozen_importlib.BuiltinImporter'>),\n  '__build_class__': <function __build_class__>,\n  '__import__': <function __import__>,\n  'abs': <function abs(x, /)>,\n  'all': <function all(iterable, /)>,\n  'any': <function any(iterable, /)>,\n  'ascii': <function ascii(obj, /)>,\n  'bin': <function bin(number, /)>,\n  'breakpoint': <function breakpoint>,\n  'callable': <function callable(obj, /)>,\n  'chr': <function chr(i, /)>,\n  'compile': <function compile(source, filename, mode, flags=0, dont_inherit=False, optimize=-1, *, _feature_version=-1)>,\n  'delattr': <function delattr(obj, name, /)>,\n  'dir': <function dir>,\n  'divmod': <function divmod(x, y, /)>,\n  'eval': <function eval(source, globals=None, locals=None, /)>,\n  'exec': <function exec(source, globals=None, locals=None, /)>,\n  'format': <function format(value, format_spec='', /)>,\n  'getattr': <function getattr>,\n  'globals': <function globals()>,\n  'hasattr': <function hasattr(obj, name, /)>,\n  'hash': <function hash(obj, /)>,\n  'hex': <function hex(number, /)>,\n  'id': <function id(obj, /)>,\n  'input': <bound method Kernel.raw_input of <ipykernel.ipkernel.IPythonKernel object at 0x7f96e06171c0>>,\n  'isinstance': <function isinstance(obj, class_or_tuple, /)>,\n  'issubclass': <function issubclass(cls, class_or_tuple, /)>,\n  'iter': <function iter>,\n  'len': <function len(obj, /)>,\n  'locals': <function locals()>,\n  'max': <function max>,\n  'min': <function min>,\n  'next': <function next>,\n  'oct': <function oct(number, /)>,\n  'ord': <function ord(c, /)>,\n  'pow': <function pow(base, exp, mod=None)>,\n  'print': <function print>,\n  'repr': <function repr(obj, /)>,\n  'round': <function round(number, ndigits=None)>,\n  'setattr': <function setattr(obj, name, value, /)>,\n  'sorted': <function sorted(iterable, /, *, key=None, reverse=False)>,\n  'sum': <function sum(iterable, /, start=0)>,\n  'vars': <function vars>,\n  'None': None,\n  'Ellipsis': Ellipsis,\n  'NotImplemented': NotImplemented,\n  'False': False,\n  'True': True,\n  'bool': bool,\n  'memoryview': memoryview,\n  'bytearray': bytearray,\n  'bytes': bytes,\n  'classmethod': classmethod,\n  'complex': complex,\n  'dict': dict,\n  'enumerate': enumerate,\n  'filter': filter,\n  'float': float,\n  'frozenset': frozenset,\n  'property': property,\n  'int': int,\n  'list': list,\n  'map': map,\n  'object': object,\n  'range': range,\n  'reversed': reversed,\n  'set': set,\n  'slice': slice,\n  'staticmethod': staticmethod,\n  'str': str,\n  'super': super,\n  'tuple': tuple,\n  'type': type,\n  'zip': zip,\n  '__debug__': True,\n  'BaseException': BaseException,\n  'Exception': Exception,\n  'TypeError': TypeError,\n  'StopAsyncIteration': StopAsyncIteration,\n  'StopIteration': StopIteration,\n  'GeneratorExit': GeneratorExit,\n  'SystemExit': SystemExit,\n  'KeyboardInterrupt': KeyboardInterrupt,\n  'ImportError': ImportError,\n  'ModuleNotFoundError': ModuleNotFoundError,\n  'OSError': OSError,\n  'EnvironmentError': OSError,\n  'IOError': OSError,\n  'EOFError': EOFError,\n  'RuntimeError': RuntimeError,\n  'RecursionError': RecursionError,\n  'NotImplementedError': NotImplementedError,\n  'NameError': NameError,\n  'UnboundLocalError': UnboundLocalError,\n  'AttributeError': AttributeError,\n  'SyntaxError': SyntaxError,\n  'IndentationError': IndentationError,\n  'TabError': TabError,\n  'LookupError': LookupError,\n  'IndexError': IndexError,\n  'KeyError': KeyError,\n  'ValueError': ValueError,\n  'UnicodeError': UnicodeError,\n  'UnicodeEncodeError': UnicodeEncodeError,\n  'UnicodeDecodeError': UnicodeDecodeError,\n  'UnicodeTranslateError': UnicodeTranslateError,\n  'AssertionError': AssertionError,\n  'ArithmeticError': ArithmeticError,\n  'FloatingPointError': FloatingPointError,\n  'OverflowError': OverflowError,\n  'ZeroDivisionError': ZeroDivisionError,\n  'SystemError': SystemError,\n  'ReferenceError': ReferenceError,\n  'MemoryError': MemoryError,\n  'BufferError': BufferError,\n  'Warning': Warning,\n  'UserWarning': UserWarning,\n  'DeprecationWarning': DeprecationWarning,\n  'PendingDeprecationWarning': PendingDeprecationWarning,\n  'SyntaxWarning': SyntaxWarning,\n  'RuntimeWarning': RuntimeWarning,\n  'FutureWarning': FutureWarning,\n  'ImportWarning': ImportWarning,\n  'UnicodeWarning': UnicodeWarning,\n  'BytesWarning': BytesWarning,\n  'ResourceWarning': ResourceWarning,\n  'ConnectionError': ConnectionError,\n  'BlockingIOError': BlockingIOError,\n  'BrokenPipeError': BrokenPipeError,\n  'ChildProcessError': ChildProcessError,\n  'ConnectionAbortedError': ConnectionAbortedError,\n  'ConnectionRefusedError': ConnectionRefusedError,\n  'ConnectionResetError': ConnectionResetError,\n  'FileExistsError': FileExistsError,\n  'FileNotFoundError': FileNotFoundError,\n  'IsADirectoryError': IsADirectoryError,\n  'NotADirectoryError': NotADirectoryError,\n  'InterruptedError': InterruptedError,\n  'PermissionError': PermissionError,\n  'ProcessLookupError': ProcessLookupError,\n  'TimeoutError': TimeoutError,\n  'open': <function io.open(file, mode='r', buffering=-1, encoding=None, errors=None, newline=None, closefd=True, opener=None)>,\n  'copyright': Copyright (c) 2001-2021 Python Software Foundation.\n  All Rights Reserved.\n  \n  Copyright (c) 2000 BeOpen.com.\n  All Rights Reserved.\n  \n  Copyright (c) 1995-2001 Corporation for National Research Initiatives.\n  All Rights Reserved.\n  \n  Copyright (c) 1991-1995 Stichting Mathematisch Centrum, Amsterdam.\n  All Rights Reserved.,\n  'credits':     Thanks to CWI, CNRI, BeOpen.com, Zope Corporation and a cast of thousands\n      for supporting Python development.  See www.python.org for more information.,\n  'license': Type license() to see the full license text,\n  'help': Type help() for interactive help, or help(object) for help about object.,\n  'execfile': <function _pydev_bundle._pydev_execfile.execfile(file, glob=None, loc=None)>,\n  'runfile': <function _pydev_bundle.pydev_umd.runfile(filename, args=None, wdir=None, namespace=None)>,\n  '__IPYTHON__': True,\n  'display': <function IPython.core.display_functions.display(*objs, include=None, exclude=None, metadata=None, transient=None, display_id=None, raw=False, clear=False, **kwargs)>,\n  'get_ipython': <bound method InteractiveShell.get_ipython of <ipykernel.zmqshell.ZMQInteractiveShell object at 0x7f96e0617730>>},\n 'constants': <module 'qrcode.constants' from '/home/anton/PycharmProjects/notion_test/venv/lib/python3.8/site-packages/qrcode/constants.py'>,\n 'exceptions': <module 'qrcode.exceptions' from '/home/anton/PycharmProjects/notion_test/venv/lib/python3.8/site-packages/qrcode/exceptions.py'>,\n 'base': <module 'qrcode.base' from '/home/anton/PycharmProjects/notion_test/venv/lib/python3.8/site-packages/qrcode/base.py'>,\n 'LUT': <module 'qrcode.LUT' from '/home/anton/PycharmProjects/notion_test/venv/lib/python3.8/site-packages/qrcode/LUT.py'>,\n 'util': <module 'qrcode.util' from '/home/anton/PycharmProjects/notion_test/venv/lib/python3.8/site-packages/qrcode/util.py'>,\n 'image': <module 'qrcode.image' from '/home/anton/PycharmProjects/notion_test/venv/lib/python3.8/site-packages/qrcode/image/__init__.py'>,\n 'main': <module 'qrcode.main' from '/home/anton/PycharmProjects/notion_test/venv/lib/python3.8/site-packages/qrcode/main.py'>,\n 'QRCode': qrcode.main.QRCode,\n 'make': <function qrcode.main.make(data=None, **kwargs)>,\n 'ERROR_CORRECT_L': 1,\n 'ERROR_CORRECT_M': 0,\n 'ERROR_CORRECT_Q': 3,\n 'ERROR_CORRECT_H': 2,\n 'run_example': <function qrcode.run_example(data='http://www.lincolnloop.com', *args, **kwargs)>}"
     },
     "execution_count": 59,
     "metadata": {},
     "output_type": "execute_result"
    }
   ],
   "source": [
    "vars(qrcode)\n",
    "\n"
   ],
   "metadata": {
    "collapsed": false,
    "pycharm": {
     "name": "#%%\n"
    }
   }
  },
  {
   "cell_type": "code",
   "execution_count": 60,
   "outputs": [
    {
     "data": {
      "text/plain": "<module 'qrcode' from '/home/anton/PycharmProjects/notion_test/venv/lib/python3.8/site-packages/qrcode/__init__.py'>"
     },
     "execution_count": 60,
     "metadata": {},
     "output_type": "execute_result"
    }
   ],
   "source": [
    "qrcode"
   ],
   "metadata": {
    "collapsed": false,
    "pycharm": {
     "name": "#%%\n"
    }
   }
  },
  {
   "cell_type": "code",
   "execution_count": 61,
   "outputs": [
    {
     "data": {
      "text/plain": "<qrcode.main.QRCode at 0x7f9699b8d670>"
     },
     "execution_count": 61,
     "metadata": {},
     "output_type": "execute_result"
    }
   ],
   "source": [
    "qr = qrcode.QRCode(\n",
    "        version=1,\n",
    "        error_correction=qrcode.constants.ERROR_CORRECT_H,\n",
    "        box_size=10,\n",
    "        border=2,\n",
    "    )\n",
    "qr"
   ],
   "metadata": {
    "collapsed": false,
    "pycharm": {
     "name": "#%%\n"
    }
   }
  },
  {
   "cell_type": "code",
   "execution_count": 63,
   "outputs": [
    {
     "data": {
      "text/plain": "{'version': 1,\n 'error_correction': 2,\n 'box_size': 10,\n 'border': 2,\n '_mask_pattern': None,\n 'image_factory': None,\n 'modules': None,\n 'modules_count': 0,\n 'data_cache': None,\n 'data_list': []}"
     },
     "execution_count": 63,
     "metadata": {},
     "output_type": "execute_result"
    }
   ],
   "source": [
    "vars(qr)"
   ],
   "metadata": {
    "collapsed": false,
    "pycharm": {
     "name": "#%%\n"
    }
   }
  },
  {
   "cell_type": "code",
   "execution_count": null,
   "outputs": [],
   "source": [],
   "metadata": {
    "collapsed": false,
    "pycharm": {
     "name": "#%%\n"
    }
   }
  }
 ],
 "metadata": {
  "kernelspec": {
   "display_name": "Python 3",
   "language": "python",
   "name": "python3"
  },
  "language_info": {
   "codemirror_mode": {
    "name": "ipython",
    "version": 2
   },
   "file_extension": ".py",
   "mimetype": "text/x-python",
   "name": "python",
   "nbconvert_exporter": "python",
   "pygments_lexer": "ipython2",
   "version": "2.7.6"
  }
 },
 "nbformat": 4,
 "nbformat_minor": 0
}